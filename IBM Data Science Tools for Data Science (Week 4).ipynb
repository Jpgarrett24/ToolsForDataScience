{
    "cells": [
        {
            "cell_type": "markdown",
            "metadata": {
                "collapsed": true
            },
            "source": "# My Jupyter Notebook on IBM Watson Studio"
        },
        {
            "cell_type": "markdown",
            "metadata": {},
            "source": "**Joseph Garrett**\n\nFull Stack Developer"
        },
        {
            "cell_type": "markdown",
            "metadata": {},
            "source": "*I am taking this course to expand my knowledge of data science technologies, and practice my progamming skills*"
        },
        {
            "cell_type": "markdown",
            "metadata": {},
            "source": "### This notebook is designed for solving the following algorithm\n**You are given an 'm x n' integer grid \"accounts\" where \"accounts [i][j] is the amount of money the i^th customer has in the j^th bank.**\n\n**A customer's wealth is the amount of money they have in all their bank accounts. The riches customer is the customer that has the maximum wealth.**\n\n#### Example 1:\n**Input: accounts = [ [1,2,3],  [3,2,1] ]**\n**Output: 6**\n**Explanation:\n**1st customer has wealth = 1 + 2 + 3 = 6**\n\n**2nd customer has wealth = 3 + 2 + 1 = 6**\n\n**Both customers are considered the richest with a wealth of 6 each, so return 6.**\n\n#### Example 2:\n**Input: accounts = [ [1,5], [7,3], [3,5] ]**\n**Output: 6**\n**Explanation:\n**1st customer has wealth = 1 + 5 = 6**\n\n**2nd customer has wealth = 7 + 3 = 10**\n\n**3rd customer has wealth = 3 + 5 = 8**\n\n**Customer 2 is the richest with a wealth of 10.**\n\n#### Example 3:\n**Input: accounts = [ [2,8,7], [7,1,3], [1,9,5] ]**\n**Output: 17**"
        },
        {
            "cell_type": "code",
            "execution_count": 17,
            "metadata": {},
            "outputs": [
                {
                    "name": "stdout",
                    "output_type": "stream",
                    "text": "6\n10\n17\n"
                },
                {
                    "data": {
                        "text/plain": "17"
                    },
                    "execution_count": 17,
                    "metadata": {},
                    "output_type": "execute_result"
                }
            ],
            "source": "def maximumWealth(accounts):\n    result = 0\n    for i in range (len(accounts)):\n        wealth = 0\n        for j in range (len(accounts[i])):\n            wealth += accounts[i][j]\n        if wealth > result:\n            result = wealth\n    print(result)\n    return result\n\nexample1 = [[1,2,3],[3,2,1]]\nmaximumWealth(example1)\n\nexample2 = [[1,5],[7,3],[3,5]]\nmaximumWealth(example2)\n\nexample3 = [[2,8,7],[7,1,3],[1,9,5]]\nmaximumWealth(example3)"
        },
        {
            "cell_type": "markdown",
            "metadata": {},
            "source": "<h3>My favorite basketball players</h3>\n<hr>\n<ol>\n    <li><a href=\"https://en.wikipedia.org/wiki/Kobe_Bryant\">Kobe Bryant</a></li>\n    <li><a href=\"https://en.wikipedia.org/wiki/LeBron_James\">LeBron James</a></li>\n    <li><a href=\"https://en.wikipedia.org/wiki/Kareem_Abdul-Jabbar\">Kareem Abdul-Jabbar</a></li>\n</ol>"
        },
        {
            "cell_type": "code",
            "execution_count": null,
            "metadata": {},
            "outputs": [],
            "source": ""
        }
    ],
    "metadata": {
        "kernelspec": {
            "display_name": "Python 3.7",
            "language": "python",
            "name": "python3"
        },
        "language_info": {
            "codemirror_mode": {
                "name": "ipython",
                "version": 3
            },
            "file_extension": ".py",
            "mimetype": "text/x-python",
            "name": "python",
            "nbconvert_exporter": "python",
            "pygments_lexer": "ipython3",
            "version": "3.7.9"
        }
    },
    "nbformat": 4,
    "nbformat_minor": 1
}