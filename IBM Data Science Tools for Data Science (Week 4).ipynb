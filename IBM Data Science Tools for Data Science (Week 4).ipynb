{
    "cells": [
        {
            "cell_type": "markdown",
            "metadata": {
                "collapsed": true
            },
            "source": "# Week 4 Assignment Jupyter Notebook on IBM Watson Studio\n\n## Joseph Garrett"
        },
        {
            "cell_type": "markdown",
            "metadata": {},
            "source": "I am taking this course to expand my knowledge of data science technologies, and practice my progamming skills"
        },
        {
            "cell_type": "markdown",
            "metadata": {},
            "source": "## This notebook is designed for solving the following algorithm\n\n### You are given an 'm x n' integer grid \"accounts\" where \"accounts [i][j] is the amount of money the i^th customer has in the j^th bank.\n\n### A customer's wealth is the amount of money they have in all their bank accounts. The riches customer is the customer that has the maximum wealth."
        },
        {
            "cell_type": "markdown",
            "metadata": {},
            "source": "### Example 1:\n#### Input: accounts = [ [1,2,3],  [3,2,1] ]\n#### Output: 6\n#### Explanation:\n1st customer has wealth = 1 + 2 + 3 = 6\n\n2nd customer has wealth = 3 + 2 + 1 = 6\n\nBoth customers are considered the richest with a wealth of 6 each, so return 6."
        },
        {
            "cell_type": "markdown",
            "metadata": {},
            "source": "### Example 2:\n#### Input: accounts = [ [1,5], [7,3], [3,5] ]\n#### Output: 10\n#### Explanation:\n1st customer has wealth = 1 + 5 = 6\n\n2nd customer has wealth = 7 + 3 = 10\n\n3rd customer has wealth = 3 + 5 = 8\n\nCustomer 2 is the richest with a wealth of 10."
        },
        {
            "cell_type": "markdown",
            "metadata": {},
            "source": "### Example 3:\n#### Input: accounts = [ [2,8,7], [7,1,3], [1,9,5] ]\n#### Output: 17"
        },
        {
            "cell_type": "code",
            "execution_count": 9,
            "metadata": {},
            "outputs": [],
            "source": "def maximumWealth(accounts):\n    result = 0\n    for i in range (len(accounts)):\n        wealth = 0\n        for j in range (len(accounts[i])):\n            wealth += accounts[i][j]\n        if wealth > result:\n            result = wealth\n    return result"
        },
        {
            "cell_type": "code",
            "execution_count": 10,
            "metadata": {},
            "outputs": [
                {
                    "data": {
                        "text/plain": "6"
                    },
                    "execution_count": 10,
                    "metadata": {},
                    "output_type": "execute_result"
                }
            ],
            "source": "example1 = [[1,2,3],[3,2,1]]\nmaximumWealth(example1)"
        },
        {
            "cell_type": "code",
            "execution_count": 12,
            "metadata": {},
            "outputs": [
                {
                    "data": {
                        "text/plain": "10"
                    },
                    "execution_count": 12,
                    "metadata": {},
                    "output_type": "execute_result"
                }
            ],
            "source": "example2 = [[1,5],[7,3],[3,5]]\nmaximumWealth(example2)"
        },
        {
            "cell_type": "code",
            "execution_count": 13,
            "metadata": {},
            "outputs": [
                {
                    "data": {
                        "text/plain": "17"
                    },
                    "execution_count": 13,
                    "metadata": {},
                    "output_type": "execute_result"
                }
            ],
            "source": "example3 = [[2,8,7],[7,1,3],[1,9,5]]\nmaximumWealth(example3)"
        },
        {
            "cell_type": "code",
            "execution_count": null,
            "metadata": {},
            "outputs": [],
            "source": ""
        }
    ],
    "metadata": {
        "kernelspec": {
            "display_name": "Python 3.7",
            "language": "python",
            "name": "python3"
        },
        "language_info": {
            "codemirror_mode": {
                "name": "ipython",
                "version": 3
            },
            "file_extension": ".py",
            "mimetype": "text/x-python",
            "name": "python",
            "nbconvert_exporter": "python",
            "pygments_lexer": "ipython3",
            "version": "3.7.9"
        }
    },
    "nbformat": 4,
    "nbformat_minor": 1
}